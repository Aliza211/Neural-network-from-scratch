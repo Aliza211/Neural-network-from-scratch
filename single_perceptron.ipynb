{
  "nbformat": 4,
  "nbformat_minor": 0,
  "metadata": {
    "colab": {
      "name": "perceptron",
      "provenance": [],
      "collapsed_sections": []
    },
    "kernelspec": {
      "name": "python3",
      "display_name": "Python 3"
    }
  },
  "cells": [
    {
      "cell_type": "code",
      "metadata": {
        "id": "htD2wJmEaZ84",
        "colab_type": "code",
        "colab": {}
      },
      "source": [
        "import numpy as np\n",
        "import matplotlib.pyplot as plt\n",
        "\n",
        "%matplotlib inline"
      ],
      "execution_count": 0,
      "outputs": []
    },
    {
      "cell_type": "code",
      "metadata": {
        "id": "fBSQ0N-B-ybe",
        "colab_type": "code",
        "colab": {}
      },
      "source": [
        "X = np.array([[1,-1,-3],[1,2,1]])\n",
        "Y = np.array([[0,1,0]])"
      ],
      "execution_count": 0,
      "outputs": []
    },
    {
      "cell_type": "code",
      "metadata": {
        "id": "8ctrdxgAakAe",
        "colab_type": "code",
        "colab": {}
      },
      "source": [
        "def sigmoid(z):\n",
        "  s=1/(1+np.exp(-z))\n",
        "  return s"
      ],
      "execution_count": 0,
      "outputs": []
    },
    {
      "cell_type": "code",
      "metadata": {
        "id": "uNYwg1g5anm1",
        "colab_type": "code",
        "colab": {}
      },
      "source": [
        "def initialize_with_zeros(dim):\n",
        "  #getting number of training examples\n",
        "  \n",
        "  w=np.zeros((dim,1))\n",
        "  b=0\n",
        "\n",
        "  return w,b"
      ],
      "execution_count": 0,
      "outputs": []
    },
    {
      "cell_type": "code",
      "metadata": {
        "id": "pDmdD6MvarOl",
        "colab_type": "code",
        "colab": {}
      },
      "source": [
        "def propagate(w,b,X,Y):\n",
        "  #getting number of training examples\n",
        "  m=X.shape[1]\n",
        "  #forward propagation\n",
        "  z=np.dot(w.T,X)+b\n",
        "  A=sigmoid(z)#compute activationl\n",
        "  cost=-(np.sum(np.dot(Y,np.log(A).T)+np.dot((1-Y),np.log(1-A).T)))/m #compute average loss function i.e cost function\n",
        "  #backward propagation\n",
        "  dz=A-Y\n",
        "  dw=np.dot(X,dz.T)/m\n",
        "  db=np.sum(dz)/m\n",
        "  assert(dw.shape == w.shape)\n",
        "  assert(db.dtype == float)\n",
        "  cost = np.squeeze(cost) #remove axis with singleton element\n",
        "  assert(cost.shape == ())\n",
        "    \n",
        "  grads = {\"dw\": dw,\"db\": db}\n",
        "        \n",
        "  \n",
        "  return grads, cost\n"
      ],
      "execution_count": 0,
      "outputs": []
    },
    {
      "cell_type": "code",
      "metadata": {
        "id": "7_Qr2TIRa1a_",
        "colab_type": "code",
        "colab": {}
      },
      "source": [
        "def optimize(w,b,X,num_iterations,learning_rate):\n",
        "  costs = []\n",
        "    \n",
        "  for i in range(num_iterations):\n",
        "    # Cost and gradient calculation \n",
        "    grads, cost = propagate(w, b, X, Y)  \n",
        "    # Retrieve derivatives from grads\n",
        "    dw = grads[\"dw\"]\n",
        "    db = grads[\"db\"]    \n",
        "        \n",
        "    # update parameter\n",
        "    w = w-  learning_rate*dw\n",
        "    b = b - learning_rate*db\n",
        "    # Record the costs\n",
        "    if i%100000==0:\n",
        "      costs.append(cost)\n",
        "  params = {\"w\": w,\n",
        "              \"b\": b}\n",
        "    \n",
        "  grads = {\"dw\": dw,\n",
        "             \"db\": db}  \n",
        "  return params, grads, costs\n"
      ],
      "execution_count": 0,
      "outputs": []
    },
    {
      "cell_type": "code",
      "metadata": {
        "id": "Sa5kfJWubhw2",
        "colab_type": "code",
        "colab": {}
      },
      "source": [
        "def predict(w,b,X):\n",
        "  m=X.shape[1]\n",
        "\n",
        "  #retrieve parameters\n",
        "  Y_prediction = np.zeros((1,m))\n",
        "  A =sigmoid(np.dot(w.T,X)+b) #compute activation\n",
        "  for i in range(A.shape[1]):\n",
        "    if A[0][i]<=0.5:\n",
        "      Y_prediction[0][i]=0\n",
        "    if A[0][i]>0.5:\n",
        "      Y_prediction[0][i]=1\n",
        "  assert(Y_prediction.shape == (1, m))\n",
        "    \n",
        "  return Y_prediction\n",
        "    "
      ],
      "execution_count": 0,
      "outputs": []
    },
    {
      "cell_type": "code",
      "metadata": {
        "id": "eH9csfEUbytz",
        "colab_type": "code",
        "outputId": "d545ff8c-246b-4d04-d7c2-5f728ab92dc1",
        "colab": {
          "base_uri": "https://localhost:8080/",
          "height": 72
        }
      },
      "source": [
        "w,b=initialize_with_zeros(2)\n",
        "params,_,costs = optimize(w,b,X,1000000,0.009)\n",
        "print(costs)\n",
        "w=params[\"w\"]\n",
        "b=params[\"b\"]\n",
        "\n",
        "print (\"predictions = \" + str(predict(w,b,X)))"
      ],
      "execution_count": 36,
      "outputs": [
        {
          "output_type": "stream",
          "text": [
            "[0.6931471805599453, 0.01504942078962851, 0.007410468508034728, 0.004908003006105366, 0.003667322789443369, 0.0029267472703363995, 0.002434766812681065, 0.0020842572279265582, 0.0018218948096128075, 0.0016181558027039396]\n",
            "predictions = [[0. 1. 0.]]\n"
          ],
          "name": "stdout"
        }
      ]
    },
    {
      "cell_type": "code",
      "metadata": {
        "id": "Tr1sqnPT0eK5",
        "colab_type": "code",
        "colab": {}
      },
      "source": [
        ""
      ],
      "execution_count": 0,
      "outputs": []
    }
  ]
}