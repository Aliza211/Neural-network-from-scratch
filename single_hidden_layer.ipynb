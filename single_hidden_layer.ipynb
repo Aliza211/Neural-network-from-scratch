{
  "nbformat": 4,
  "nbformat_minor": 0,
  "metadata": {
    "colab": {
      "name": "single hidden layer",
      "provenance": [],
      "collapsed_sections": []
    },
    "kernelspec": {
      "name": "python3",
      "display_name": "Python 3"
    }
  },
  "cells": [
    {
      "cell_type": "code",
      "metadata": {
        "id": "M4wUicvTSJ_7",
        "colab_type": "code",
        "colab": {}
      },
      "source": [
        "import numpy as np\n"
      ],
      "execution_count": 0,
      "outputs": []
    },
    {
      "cell_type": "code",
      "metadata": {
        "id": "1nFYckyYSrJi",
        "colab_type": "code",
        "colab": {}
      },
      "source": [
        "X = np.array([[1,-1,-3],[1,2,1]])\n",
        "Y = np.array([[0,1,0]])"
      ],
      "execution_count": 0,
      "outputs": []
    },
    {
      "cell_type": "code",
      "metadata": {
        "id": "puiMePJ-SvSL",
        "colab_type": "code",
        "colab": {}
      },
      "source": [
        "def sigmoid(z):\n",
        "  s=1/(1+np.exp(-z))\n",
        "  return s"
      ],
      "execution_count": 0,
      "outputs": []
    },
    {
      "cell_type": "code",
      "metadata": {
        "id": "_r81itZWSzVV",
        "colab_type": "code",
        "colab": {}
      },
      "source": [
        "def layer_sizes(X,Y):\n",
        "  n_x=X.shape[0]\n",
        "  n_h=4\n",
        "  n_y=Y.shape[0]\n",
        "  return n_x,n_h,n_y"
      ],
      "execution_count": 0,
      "outputs": []
    },
    {
      "cell_type": "code",
      "metadata": {
        "id": "LsMvRqdfS-QG",
        "colab_type": "code",
        "colab": {}
      },
      "source": [
        "def initialize_parameters(n_x, n_h, n_y):\n",
        "  W1 = np.random.randn(n_h,n_x) * 0.01 #not initializing as zero, as it gives symmetric hidden units\n",
        "  b1 = np.zeros((n_h,1))\n",
        "  W2 = np.random.randn(n_y,n_h) * 0.01 #not initializing as zero, as it gives symmetric hidden units\n",
        "  b2 = np.zeros((n_y,1))\n",
        "  #checking the shape of the parameters\n",
        "  assert (W1.shape == (n_h, n_x))\n",
        "  assert (b1.shape == (n_h, 1))\n",
        "  assert (W2.shape == (n_y, n_h))\n",
        "  assert (b2.shape == (n_y, 1))\n",
        "    \n",
        "  parameters = {\"W1\": W1,\n",
        "                  \"b1\": b1,\n",
        "                  \"W2\": W2,\n",
        "                  \"b2\": b2}\n",
        "    \n",
        "  return parameters\n"
      ],
      "execution_count": 0,
      "outputs": []
    },
    {
      "cell_type": "code",
      "metadata": {
        "id": "uHQZsr6dTJ9G",
        "colab_type": "code",
        "colab": {}
      },
      "source": [
        "def forward_propagation(X, parameters):\n",
        "  #Retrive each parameter using a dictionary \"parameters\"\n",
        "  W1 = parameters[\"W1\"]\n",
        "  b1 = parameters[\"b1\"]\n",
        "  W2 = parameters[\"W2\"]\n",
        "  b2 = parameters[\"b2\"]\n",
        "    \n",
        "  #Implement forward implementation\n",
        "  Z1=np.dot(W1,X)+b1\n",
        "  A1=np.tanh(Z1)\n",
        "  Z2=np.dot(W2,A1)+b2\n",
        "  A2=sigmoid(Z2)\n",
        "    \n",
        "    \n",
        "  cache= {\"Z1\": Z1,\n",
        "             \"A1\": A1,\n",
        "             \"Z2\": Z2,\n",
        "             \"A2\": A2}\n",
        "    \n",
        "  return A2, cache\n"
      ],
      "execution_count": 0,
      "outputs": []
    },
    {
      "cell_type": "code",
      "metadata": {
        "id": "TmwrnSj8TWph",
        "colab_type": "code",
        "colab": {}
      },
      "source": [
        "def compute_cost(Y,A2,X):\n",
        "  m = X.shape[1] #number of training examples\n",
        "  cost=-(np.sum(np.dot(Y,np.log(A2).T)+np.dot((1-Y),np.log(1-A2).T)))/m #compute cost\n",
        "    \n",
        "  cost = np.squeeze(cost) #remove axis with singleton element\n",
        "  return cost"
      ],
      "execution_count": 0,
      "outputs": []
    },
    {
      "cell_type": "code",
      "metadata": {
        "id": "-h6U08kUTdLb",
        "colab_type": "code",
        "colab": {}
      },
      "source": [
        "def backward_propagation(cache,parameters,X):\n",
        "  m = X.shape[1] #number of training examples\n",
        "    \n",
        "  #Retrive w1 and w2 from dictionary \"parameters\"\n",
        "  W1 = parameters[\"W1\"]\n",
        "  W2 = parameters[\"W2\"]\n",
        "  #Retrive A1 and A2 from dictionary \"cache\"\n",
        "  A1=cache[\"A1\"]\n",
        "  A2=cache[\"A2\"]\n",
        "    \n",
        "  #Implementing backward propagation\n",
        "  dZ2=A2-Y\n",
        "  dW2=(np.dot(dZ2,A1.T))/m\n",
        "  db2 = (np.sum(dZ2,axis = 1,keepdims = True))/m\n",
        "  dZ1= np.dot(W2.T,dZ2) * (1-np.power(A2,2))\n",
        "  dW1=(np.dot(dZ1,X.T))/m\n",
        "  db1= (np.sum(dZ1,axis = 1,keepdims = True))/m\n",
        "      \n",
        "  grads = {\"dW1\": dW1,\n",
        "             \"db1\": db1,\n",
        "             \"dW2\": dW2,\n",
        "             \"db2\": db2}\n",
        "    \n",
        "  return grads\n",
        "    \n",
        "\n",
        "    \n",
        "    \n",
        "    \n"
      ],
      "execution_count": 0,
      "outputs": []
    },
    {
      "cell_type": "code",
      "metadata": {
        "id": "YbldumEXTsXw",
        "colab_type": "code",
        "colab": {}
      },
      "source": [
        "def update_parameters(X,parameters,num_iterations, learning_rate = 1.2):\n",
        "  costs=[]\n",
        "  for i in range(num_iterations):\n",
        "    A2,cache=forward_propagation(X,parameters)\n",
        "    grads=backward_propagation(cache,parameters,X)\n",
        "    # Retrieve each parameter from the dictionary \"parameters\"\n",
        "    W1 = parameters[\"W1\"]\n",
        "    b1 = parameters[\"b1\"]\n",
        "    W2 = parameters[\"W2\"]\n",
        "    b2 = parameters[\"b2\"]\n",
        "    \n",
        "    # Retrieve each gradient from the dictionary \"grads\"\n",
        "    \n",
        "    dW1 = grads[\"dW1\"]\n",
        "    db1 = grads[\"db1\"]\n",
        "    dW2 = grads[\"dW2\"]\n",
        "    db2 = grads[\"db2\"]\n",
        "  \n",
        "    # Update rule for each parameter\n",
        "    W1 = W1-learning_rate*dW1\n",
        "    b1 = b1-learning_rate*db1\n",
        "    W2 = W2-learning_rate*dW2\n",
        "    b2 = b2-learning_rate*db2\n",
        "\n",
        "    cost=compute_cost(Y,A2,X)\n",
        "    if i%1000==0:\n",
        "      costs.append(cost)\n",
        "      \n",
        "    parameters = {\"W1\": W1,\n",
        "                  \"b1\": b1,\n",
        "                  \"W2\": W2,\n",
        "                  \"b2\": b2}\n",
        "  return parameters,costs"
      ],
      "execution_count": 0,
      "outputs": []
    },
    {
      "cell_type": "code",
      "metadata": {
        "id": "m6s-qiEcUKx3",
        "colab_type": "code",
        "colab": {}
      },
      "source": [
        "def predict(parameters, X):\n",
        "  \n",
        "  # Computes probabilities using forward propagation, and classifies to 0/1 using 0.5 as the threshold.\n",
        "  A2, cache =   forward_propagation(X, parameters)\n",
        "  predictions =(A2>0.5)*1 #for changing bollean array to integer form\n",
        "    \n",
        "  return predictions"
      ],
      "execution_count": 0,
      "outputs": []
    },
    {
      "cell_type": "code",
      "metadata": {
        "id": "exOgpIiiUSWn",
        "colab_type": "code",
        "outputId": "5a098406-6121-4415-c6fe-76b48b411033",
        "colab": {
          "base_uri": "https://localhost:8080/",
          "height": 72
        }
      },
      "source": [
        "n_x,n_h,n_y=layer_sizes(X,Y)\n",
        "parameters=initialize_parameters(n_x,n_h,n_y)\n",
        "parameters,costs=update_parameters(X,parameters,10000,learning_rate=0.04)\n",
        "print(costs)\n",
        "print (\"predictions = \" + str(predict(parameters,X)))"
      ],
      "execution_count": 61,
      "outputs": [
        {
          "output_type": "stream",
          "text": [
            "[0.6931439140398292, 0.21201326852244126, 0.033430981777228745, 0.020031723080977636, 0.015434986995022727, 0.013164552956134312, 0.01187256412748249, 0.011104740494616532, 0.0106691978107435, 0.010476711136510329]\n",
            "predictions = [[0 1 0]]\n"
          ],
          "name": "stdout"
        }
      ]
    },
    {
      "cell_type": "code",
      "metadata": {
        "id": "5vPuBYe5UVN_",
        "colab_type": "code",
        "colab": {}
      },
      "source": [
        ""
      ],
      "execution_count": 0,
      "outputs": []
    }
  ]
}